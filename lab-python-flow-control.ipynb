{
 "cells": [
  {
   "cell_type": "markdown",
   "id": "d3bfc191-8885-42ee-b0a0-bbab867c6f9f",
   "metadata": {
    "tags": []
   },
   "source": [
    "# Lab | Flow Control"
   ]
  },
  {
   "cell_type": "markdown",
   "id": "3851fcd1-cf98-4653-9c89-e003b7ec9400",
   "metadata": {},
   "source": [
    "## Exercise: Managing Customer Orders Optimized\n",
    "\n",
    "In the last lab, you were starting an online store that sells various products. To ensure smooth operations, you developed a program that manages customer orders and inventory.\n",
    "\n",
    "You did so without using flow control. Let's go a step further and improve this code.\n",
    "\n",
    "Follow the steps below to complete the exercise:\n",
    "\n",
    "1. Look at your code from the lab data structures, and improve repeated code with loops.\n",
    "\n",
    "2. Instead of asking the user to input the name of three products that a customer wants to order, do the following:\n",
    "    \n",
    "    a. Prompt the user to enter the name of a product that a customer wants to order.\n",
    "    \n",
    "    b. Add the product name to the \"customer_orders\" set.\n",
    "    \n",
    "    c. Ask the user if they want to add another product (yes/no).\n",
    "    \n",
    "    d. Continue the loop until the user does not want to add another product.\n",
    "\n",
    "3. Instead of updating the inventory by subtracting 1 from the quantity of each product, only do it for  the products that were ordered (those in \"customer_orders\")."
   ]
  },
  {
   "cell_type": "code",
   "execution_count": 1,
   "id": "c95d0f42",
   "metadata": {},
   "outputs": [
    {
     "name": "stdout",
     "output_type": "stream",
     "text": [
      "{'t-shirt': 10, 'mug': 9, 'hat': 8, 'book': 7, 'keychain': 6}\n"
     ]
    }
   ],
   "source": [
    "# Define a list called `products` that contains the following items: \"t-shirt\", \"mug\", \"hat\", \"book\", \"keychain\".\n",
    "products = [\"t-shirt\", \"mug\", \"hat\", \"book\", \"keychain\"]\n",
    "\n",
    "# Create an empty dictionary called `inventory`.\n",
    "inventory = {}\n",
    "\n",
    "# Ask the user to input the quantity of each product available in the inventory. Use the product names from the `products` list as keys in the `inventory` dictionary and assign the respective quantities as values.quantitys = []\n",
    "for product in products:\n",
    "\n",
    "    quantity = int(input(f\"Please input the quantity of {product} available in the inventory\"))\n",
    "    inventory[product] = quantity\n",
    " \n",
    "print(inventory)\n",
    "\n",
    "\n"
   ]
  },
  {
   "cell_type": "code",
   "execution_count": 2,
   "id": "ee463151",
   "metadata": {},
   "outputs": [
    {
     "name": "stdout",
     "output_type": "stream",
     "text": [
      "Sorry, incorrect product, please choose one product from ['t-shirt', 'mug', 'hat', 'book', 'keychain']\n",
      "Sorry, incorrect product, please choose one product from ['t-shirt', 'mug', 'hat', 'book', 'keychain']\n",
      "Ok, let's add more products\n",
      "Please, write only 'yes' or 'no'\n",
      "Ok, your order is completed\n",
      "Your order is completed\n",
      "{'t-shirt', 'hat', 'mug'}\n"
     ]
    }
   ],
   "source": [
    "# Create an empty set called `customer_orders`.\n",
    "customer_orders = set()\n",
    "\n",
    "\n",
    "#2. Instead of asking the user to input the name of three products that a customer wants to order, do the following:\n",
    "    \n",
    "#    a. Prompt the user to enter the name of a product that a customer wants to order.\n",
    "    \n",
    "#    b. Add the product name to the \"customer_orders\" set.\n",
    "    \n",
    "#    c. Ask the user if they want to add another product (yes/no).\n",
    "    \n",
    "#    d. Continue the loop until the user does not want to add another product.\n",
    "\n",
    "\n",
    "while len(customer_orders) < 5:\n",
    "    order = input(\"What product do you want to order?\")\n",
    "    if order in products:\n",
    "        if order in customer_orders:\n",
    "            print(\"The product \" + order + \" is already ordered\")\n",
    "        else:\n",
    "            customer_orders.add(order)\n",
    "            ask_more = input(\"Do you want to add another product? (yes/no)\")\n",
    "           \n",
    "            if ask_more == 'yes':\n",
    "             print(\"Ok, let's add more products\")\n",
    "            \n",
    "            elif ask_more == 'no':\n",
    "             print(\"Ok, your order is completed\")\n",
    "             break\n",
    "\n",
    "            else:\n",
    "             print(\"Please, write only 'yes' or 'no'\")\n",
    "                 \n",
    "    else:\n",
    "     print(f\"Sorry, incorrect product, please choose one product from {products}\")\n",
    "\n",
    "if len(customer_orders) ==5:\n",
    "   print(\"You`ve ordered every product available\")\n",
    "\n",
    "else:\n",
    "   print(\"Your order is completed\")\n",
    "         \n",
    "#6. Print the products in the `customer_orders` set.\n",
    "print(customer_orders)\n",
    "           "
   ]
  },
  {
   "cell_type": "code",
   "execution_count": 3,
   "id": "52ef625c",
   "metadata": {},
   "outputs": [
    {
     "name": "stdout",
     "output_type": "stream",
     "text": [
      "The total of products ordered is: 3\n",
      "27\n",
      "Total available products in inventory: 40\n",
      "Percentage of products ordered: 67.50%\n"
     ]
    }
   ],
   "source": [
    "\n",
    "#. Calculate the following order statistics:\n",
    "#  - Total Products Ordered: The total number of products in the `customer_orders` set.\n",
    "#  - Percentage of Products Ordered: The percentage of products ordered compared to the total available products.\n",
    "#   \n",
    "#   Store these statistics in a tuple called `order_status`.\n",
    "\n",
    "total_products_ordered = len(customer_orders)\n",
    "print(f\"The total of products ordered is: {total_products_ordered}\")\n",
    "\n",
    "cantidad = []\n",
    "for order in customer_orders:\n",
    "    cantidad.append(inventory[order]) \n",
    "    #print(cantidad)\n",
    "\n",
    "total_products_ordered = sum(cantidad)\n",
    "print (total_products_ordered)\n",
    "\n",
    "total_available_products = sum(inventory.values())\n",
    "print(f\"Total available products in inventory: {total_available_products}\")\n",
    "\n",
    "#percentage\n",
    "\n",
    "percentage_ordered = (total_products_ordered / total_available_products) * 100\n",
    "print(f\"Percentage of products ordered: {percentage_ordered:.2f}%\")\n",
    "\n",
    "\n",
    "order_status = (total_products_ordered, percentage_ordered)"
   ]
  },
  {
   "cell_type": "code",
   "execution_count": 4,
   "id": "ea22487a",
   "metadata": {},
   "outputs": [
    {
     "name": "stdout",
     "output_type": "stream",
     "text": [
      "Order Statistics:\n",
      "Total Products Ordered: 27\n",
      "Percentage of Products Ordered: 67.50%\n",
      "Updated Inventory:\n",
      "t-shirt: 9\n",
      "mug: 8\n",
      "hat: 7\n",
      "book: 7\n",
      "keychain: 6\n"
     ]
    }
   ],
   "source": [
    "# Print the order statistics in the requested format\n",
    "print(\"Order Statistics:\")\n",
    "print(f\"Total Products Ordered: {order_status[0]}\")\n",
    "print(f\"Percentage of Products Ordered: {order_status[1]:.2f}%\")\n",
    "\n",
    "# Instead of updating the inventory by subtracting 1 from the quantity of each product, only do it for  the products that were ordered (those in \"customer_orders\").\n",
    "for product in customer_orders:\n",
    "    if inventory[product] > 0:\n",
    "        inventory[product] -= 1\n",
    "\n",
    "# Print the updated inventory\n",
    "print(\"Updated Inventory:\")\n",
    "for product, quantity in inventory.items():\n",
    "    print(f\"{product}: {quantity}\")\n"
   ]
  }
 ],
 "metadata": {
  "kernelspec": {
   "display_name": "Python 3 (ipykernel)",
   "language": "python",
   "name": "python3"
  },
  "language_info": {
   "codemirror_mode": {
    "name": "ipython",
    "version": 3
   },
   "file_extension": ".py",
   "mimetype": "text/x-python",
   "name": "python",
   "nbconvert_exporter": "python",
   "pygments_lexer": "ipython3",
   "version": "3.12.4"
  }
 },
 "nbformat": 4,
 "nbformat_minor": 5
}
